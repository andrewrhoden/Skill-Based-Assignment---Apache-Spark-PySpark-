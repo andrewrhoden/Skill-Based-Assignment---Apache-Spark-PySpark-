{
 "cells": [
  {
   "attachments": {},
   "cell_type": "markdown",
   "metadata": {},
   "source": [
    "### Objective: \n",
    "In this skill-based assignment (SBA), you will analyze the dataset for the imaginary company, “CompanyABC,” using PySpark. The dataset is about stocks and sales, and you will be asked some basic questions about CompanyABC stock and sales data. \n"
   ]
  },
  {
   "attachments": {},
   "cell_type": "markdown",
   "metadata": {},
   "source": [
    "## Section One - CompanyABC Stock Data\n"
   ]
  },
  {
   "attachments": {},
   "cell_type": "markdown",
   "metadata": {},
   "source": [
    "Load/Read the CompanyABC Stock(CompanyABC stock.csv) data into SparkSQL Dataframe [ hint read() ].\n",
    "\n",
    "After loading the data, you can inspect the data by using the lines of code below:\n",
    "\n",
    "Df.columns\n",
    "\n",
    "Df.printSchema()\n",
    "\n",
    "Df.describe().show()\n",
    "\n",
    "\n",
    "Df.show()\n"
   ]
  },
  {
   "cell_type": "code",
   "execution_count": 33,
   "metadata": {},
   "outputs": [],
   "source": [
    "from pyspark.sql import SparkSession \n",
    "from pyspark.sql.functions import col,max,min,mean\n",
    "import mysql.connector\n",
    "spark = SparkSession.builder.appName(\"companyABC Stock Data\").getOrCreate()"
   ]
  },
  {
   "cell_type": "code",
   "execution_count": null,
   "metadata": {},
   "outputs": [],
   "source": [
    "# import config\n",
    "# conn = mysql.connector.connect(\n",
    "#   host=config.DB_HOST,\n",
    "#   user=config.DB_USER,\n",
    "#   password=config.DB_PASSWORD,\n",
    "#   database=config.DB_NAME\n",
    "# )"
   ]
  },
  {
   "cell_type": "code",
   "execution_count": 67,
   "metadata": {},
   "outputs": [],
   "source": [
    "import configparser\n",
    "\n",
    "config = configparser.ConfigParser()\n",
    "config.read('config.ini')\n",
    "\n",
    "host = config['DATABASE']['host']\n",
    "user = config['DATABASE']['user']\n",
    "password = config['DATABASE']['password']\n",
    "database = config['DATABASE']['database']"
   ]
  },
  {
   "cell_type": "code",
   "execution_count": 4,
   "metadata": {},
   "outputs": [],
   "source": [
    "df =spark.read.format(\"csv\").option(\"header\", \"true\").load(\"CompanyABC_stock.csv\")"
   ]
  },
  {
   "cell_type": "code",
   "execution_count": 5,
   "metadata": {},
   "outputs": [
    {
     "name": "stdout",
     "output_type": "stream",
     "text": [
      "['Date', 'Open', 'High', 'Low', 'Close', 'Volume', 'Adj Close']\n"
     ]
    }
   ],
   "source": [
    "print(df.columns)"
   ]
  },
  {
   "cell_type": "code",
   "execution_count": 6,
   "metadata": {},
   "outputs": [
    {
     "name": "stdout",
     "output_type": "stream",
     "text": [
      "root\n",
      " |-- Date: string (nullable = true)\n",
      " |-- Open: string (nullable = true)\n",
      " |-- High: string (nullable = true)\n",
      " |-- Low: string (nullable = true)\n",
      " |-- Close: string (nullable = true)\n",
      " |-- Volume: string (nullable = true)\n",
      " |-- Adj Close: string (nullable = true)\n",
      "\n"
     ]
    }
   ],
   "source": [
    "df.printSchema()"
   ]
  },
  {
   "cell_type": "code",
   "execution_count": 7,
   "metadata": {},
   "outputs": [
    {
     "name": "stdout",
     "output_type": "stream",
     "text": [
      "+-------+----------+------------------+-----------------+-----------------+-----------------+-----------------+-----------------+\n",
      "|summary|      Date|              Open|             High|              Low|            Close|           Volume|        Adj Close|\n",
      "+-------+----------+------------------+-----------------+-----------------+-----------------+-----------------+-----------------+\n",
      "|  count|      1258|              1258|             1258|             1258|             1258|             1258|             1258|\n",
      "|   mean|      null| 72.35785375357709|72.83938807631165| 71.9186009594594|72.38844998012726|8222093.481717011|67.23883848728146|\n",
      "| stddev|      null|  6.76809024470826|6.768186808159218|6.744075756255496|6.756859163732991|  4519780.8431556|6.722609449996857|\n",
      "|    min|2012-01-03|56.389998999999996|        57.060001|        56.299999|        56.419998|         10010500|        50.363689|\n",
      "|    max|2016-12-30|         90.800003|        90.970001|            89.25|        90.470001|          9994400|84.91421600000001|\n",
      "+-------+----------+------------------+-----------------+-----------------+-----------------+-----------------+-----------------+\n",
      "\n"
     ]
    }
   ],
   "source": [
    "df.describe().show()"
   ]
  },
  {
   "cell_type": "code",
   "execution_count": 8,
   "metadata": {},
   "outputs": [
    {
     "name": "stdout",
     "output_type": "stream",
     "text": [
      "+----------+------------------+------------------+------------------+------------------+--------+------------------+\n",
      "|      Date|              Open|              High|               Low|             Close|  Volume|         Adj Close|\n",
      "+----------+------------------+------------------+------------------+------------------+--------+------------------+\n",
      "|2012-01-03|         59.970001|         61.060001|         59.869999|         60.330002|12668800|52.619234999999996|\n",
      "|2012-01-04|60.209998999999996|         60.349998|         59.470001|59.709998999999996| 9593300|         52.078475|\n",
      "|2012-01-05|         59.349998|         59.619999|         58.369999|         59.419998|12768200|         51.825539|\n",
      "|2012-01-06|         59.419998|         59.450001|         58.869999|              59.0| 8069400|          51.45922|\n",
      "|2012-01-09|         59.029999|         59.549999|         58.919998|             59.18| 6679300|51.616215000000004|\n",
      "|2012-01-10|             59.43|59.709998999999996|             58.98|59.040001000000004| 6907300|         51.494109|\n",
      "|2012-01-11|         59.060001|         59.529999|59.040001000000004|         59.400002| 6365600|         51.808098|\n",
      "|2012-01-12|59.790001000000004|              60.0|         59.400002|              59.5| 7236400|51.895315999999994|\n",
      "|2012-01-13|             59.18|59.610001000000004|59.009997999999996|59.540001000000004| 7729300|51.930203999999996|\n",
      "|2012-01-17|         59.869999|60.110001000000004|             59.52|         59.849998| 8500000|         52.200581|\n",
      "|2012-01-18|59.790001000000004|         60.029999|         59.650002|60.009997999999996| 5911400|         52.340131|\n",
      "|2012-01-19|             59.93|             60.73|             59.75|60.610001000000004| 9234600|         52.863447|\n",
      "|2012-01-20|             60.75|             61.25|         60.669998|61.009997999999996|10378800|53.212320999999996|\n",
      "|2012-01-23|         60.810001|             60.98|60.509997999999996|             60.91| 7134100|         53.125104|\n",
      "|2012-01-24|             60.75|              62.0|             60.75|61.389998999999996| 7362800| 53.54375400000001|\n",
      "|2012-01-25|             61.18|61.610001000000004|61.040001000000004|         61.470001| 5915800| 53.61353100000001|\n",
      "|2012-01-26|         61.799999|             61.84|             60.77|         60.970001| 7436200|         53.177436|\n",
      "|2012-01-27|60.860001000000004|         61.119999|60.540001000000004|60.709998999999996| 6287300|         52.950665|\n",
      "|2012-01-30|         60.470001|             61.32|         60.349998|         61.299999| 7636900|53.465256999999994|\n",
      "|2012-01-31|         61.529999|             61.57|         60.580002|61.360001000000004| 9761500|53.517590000000006|\n",
      "+----------+------------------+------------------+------------------+------------------+--------+------------------+\n",
      "only showing top 20 rows\n",
      "\n"
     ]
    }
   ],
   "source": [
    "df.show()"
   ]
  },
  {
   "attachments": {},
   "cell_type": "markdown",
   "metadata": {},
   "source": [
    " #### 1.2 Print out the first five rows.\n"
   ]
  },
  {
   "cell_type": "code",
   "execution_count": 9,
   "metadata": {},
   "outputs": [
    {
     "name": "stdout",
     "output_type": "stream",
     "text": [
      "+----------+------------------+---------+---------+------------------+--------+------------------+\n",
      "|      Date|              Open|     High|      Low|             Close|  Volume|         Adj Close|\n",
      "+----------+------------------+---------+---------+------------------+--------+------------------+\n",
      "|2012-01-03|         59.970001|61.060001|59.869999|         60.330002|12668800|52.619234999999996|\n",
      "|2012-01-04|60.209998999999996|60.349998|59.470001|59.709998999999996| 9593300|         52.078475|\n",
      "|2012-01-05|         59.349998|59.619999|58.369999|         59.419998|12768200|         51.825539|\n",
      "|2012-01-06|         59.419998|59.450001|58.869999|              59.0| 8069400|          51.45922|\n",
      "|2012-01-09|         59.029999|59.549999|58.919998|             59.18| 6679300|51.616215000000004|\n",
      "+----------+------------------+---------+---------+------------------+--------+------------------+\n",
      "only showing top 5 rows\n",
      "\n"
     ]
    }
   ],
   "source": [
    "df.show(5)"
   ]
  },
  {
   "attachments": {},
   "cell_type": "markdown",
   "metadata": {},
   "source": [
    "1.3 Create a new Dataframe column called “HV Ratio,” which will stimulate the ratio of the High price versus the total Volume of stock that was traded for a day. \n"
   ]
  },
  {
   "cell_type": "code",
   "execution_count": 11,
   "metadata": {},
   "outputs": [
    {
     "name": "stdout",
     "output_type": "stream",
     "text": [
      "+----------+------------------+---------+---------+------------------+--------+------------------+--------------------+\n",
      "|      Date|              Open|     High|      Low|             Close|  Volume|         Adj Close|            HV Ratio|\n",
      "+----------+------------------+---------+---------+------------------+--------+------------------+--------------------+\n",
      "|2012-01-03|         59.970001|61.060001|59.869999|         60.330002|12668800|52.619234999999996|4.819714653321546E-6|\n",
      "|2012-01-04|60.209998999999996|60.349998|59.470001|59.709998999999996| 9593300|         52.078475|6.290848613094555E-6|\n",
      "|2012-01-05|         59.349998|59.619999|58.369999|         59.419998|12768200|         51.825539|4.669412994783916E-6|\n",
      "|2012-01-06|         59.419998|59.450001|58.869999|              59.0| 8069400|          51.45922|7.367338463826307E-6|\n",
      "|2012-01-09|         59.029999|59.549999|58.919998|             59.18| 6679300|51.616215000000004|8.915604778943901E-6|\n",
      "+----------+------------------+---------+---------+------------------+--------+------------------+--------------------+\n",
      "only showing top 5 rows\n",
      "\n"
     ]
    }
   ],
   "source": [
    "df = df.withColumn(\"HV Ratio\", col(\"High\")/col(\"Volume\"))\n",
    "df.show(5)"
   ]
  },
  {
   "attachments": {},
   "cell_type": "markdown",
   "metadata": {},
   "source": [
    "1.4 Find out on what day the stock price was the highest. (Hint: use the High column.)\n"
   ]
  },
  {
   "cell_type": "code",
   "execution_count": 16,
   "metadata": {},
   "outputs": [
    {
     "name": "stdout",
     "output_type": "stream",
     "text": [
      "[Row(Date='2015-01-13')]\n",
      "date of highest stock is : 2015-01-13\n"
     ]
    }
   ],
   "source": [
    "highest_day=df.agg(max(\"High\")).first()[0]\n",
    "\n",
    "date_of_highest =df.filter(df[\"High\"]==highest_day).select(\"Date\").collect()\n",
    "print(date_of_highest)\n",
    "print(\"date of highest stock is :\",date_of_highest[0][0])"
   ]
  },
  {
   "attachments": {},
   "cell_type": "markdown",
   "metadata": {},
   "source": [
    "1.5 What is the average (mean) closing price? (Hint: Use the Close column.)"
   ]
  },
  {
   "cell_type": "code",
   "execution_count": 19,
   "metadata": {},
   "outputs": [
    {
     "name": "stdout",
     "output_type": "stream",
     "text": [
      "72.38844998012726\n"
     ]
    }
   ],
   "source": [
    "avg_mean= df.agg(mean('Close')).first()[0]\n",
    "\n",
    "print(avg_mean)"
   ]
  },
  {
   "attachments": {},
   "cell_type": "markdown",
   "metadata": {},
   "source": [
    "1.6: What is the maximum and minimum volume of stock traded? (Hint: Use the Volume column).\n"
   ]
  },
  {
   "cell_type": "code",
   "execution_count": 25,
   "metadata": {},
   "outputs": [
    {
     "name": "stdout",
     "output_type": "stream",
     "text": [
      "The maximum and minimum volume of stock traded:  maximum : 9994400 Minimum : 10010500\n"
     ]
    }
   ],
   "source": [
    "max_Vol_traded = df.agg(max(\"Volume\")).first()[0]\n",
    "min_vol_traded = df.agg(min(\"Volume\")).first()[0]\n",
    "\n",
    "print(\"The maximum and minimum volume of stock traded: \", \"maximum :\", max_Vol_traded, \"Minimum :\" ,min_vol_traded)\n"
   ]
  },
  {
   "attachments": {},
   "cell_type": "markdown",
   "metadata": {},
   "source": [
    "1.7: For how many days was the closing value less than 70 dollars? (Hint: Use the count() method.)"
   ]
  },
  {
   "cell_type": "code",
   "execution_count": 29,
   "metadata": {},
   "outputs": [
    {
     "name": "stdout",
     "output_type": "stream",
     "text": [
      "Number of days closing value is less that $70 is 397\n"
     ]
    }
   ],
   "source": [
    "closing_count = df.filter(df[\"Close\"]<70).count()\n",
    "\n",
    "print(\"Number of days closing value is less that $70 is\",closing_count)"
   ]
  },
  {
   "attachments": {},
   "cell_type": "markdown",
   "metadata": {},
   "source": [
    "1.8: What percentage of the time was the High greater than 80 dollars?"
   ]
  },
  {
   "cell_type": "code",
   "execution_count": 31,
   "metadata": {},
   "outputs": [
    {
     "name": "stdout",
     "output_type": "stream",
     "text": [
      "The percentage of time over 80 is 8.426073131955485 %\n"
     ]
    }
   ],
   "source": [
    "high_over_80 =df.filter(df[\"High\"]>80).count()\n",
    "\n",
    "percentage_of_times = (high_over_80/df.count())*100\n",
    "\n",
    "print(\"The percentage of time over 80 is\",percentage_of_times,\"%\")"
   ]
  },
  {
   "attachments": {},
   "cell_type": "markdown",
   "metadata": {},
   "source": [
    "1.9: Create a database named CompanyABC_DB using MariaDB(HeidiSQL). "
   ]
  },
  {
   "cell_type": "markdown",
   "metadata": {},
   "source": []
  },
  {
   "attachments": {},
   "cell_type": "markdown",
   "metadata": {},
   "source": [
    "1.10: Load/Write CompanyABC stock.csv file data into CompanyABC_DB database  from SparkSQL Dataframe. You can specify any table name for that file.\n"
   ]
  },
  {
   "cell_type": "code",
   "execution_count": 68,
   "metadata": {},
   "outputs": [],
   "source": [
    "#Connect to the MariaDB database\n",
    "conn = mysql.connector.connect(\n",
    "    host=host,\n",
    "    user=user,\n",
    "    password=password,\n",
    "    database=database\n",
    ")"
   ]
  },
  {
   "cell_type": "code",
   "execution_count": 35,
   "metadata": {},
   "outputs": [],
   "source": [
    "# Create a cursor object\n",
    "cursor = conn.cursor()"
   ]
  },
  {
   "cell_type": "code",
   "execution_count": 36,
   "metadata": {},
   "outputs": [],
   "source": [
    "#Create a table to store the data\n",
    "cursor.execute(\"\"\"\n",
    "    CREATE TABLE companyabc_stock (\n",
    "        Date DATE,\n",
    "        Open FLOAT,\n",
    "        High FLOAT,\n",
    "        Low FLOAT,\n",
    "        Close FLOAT,\n",
    "        Adj_Close FLOAT,\n",
    "        Volume INT\n",
    "    )\n",
    "\"\"\")"
   ]
  },
  {
   "cell_type": "code",
   "execution_count": 71,
   "metadata": {},
   "outputs": [],
   "source": [
    "#Write the data from the SparkSQL Dataframe to the MariaDB database\n",
    "df.write.jdbc(\n",
    "    url=\"jdbc:mysql://localhost:3306/CompanyABC_DB\",\n",
    "    table=\"companyabc_stock\",\n",
    "    mode=\"overwrite\",\n",
    "    properties={\n",
    "        \"user\": user,\n",
    "        \"password\": password,\n",
    "        \"driver\": \"com.mysql.jdbc.Driver\"\n",
    "    }\n",
    ")"
   ]
  },
  {
   "cell_type": "code",
   "execution_count": 72,
   "metadata": {},
   "outputs": [],
   "source": [
    "# Commit the changes and close the connection\n",
    "conn.commit()\n",
    "conn.close()"
   ]
  },
  {
   "attachments": {},
   "cell_type": "markdown",
   "metadata": {},
   "source": [
    "## Section Two - CompanyABC Sales Data"
   ]
  },
  {
   "attachments": {},
   "cell_type": "markdown",
   "metadata": {},
   "source": [
    "2.1: Load/Read both CompanyABC sales datasets (Sales_April_2019.csv and Sales_February_2019.csv) into SparkSQL Dataframe ( hint read() ).\n",
    "\n",
    "You can inspect data by using the lines below: \n",
    "\n",
    "Df.columns\n",
    "\n",
    "Df.printSchema()\n",
    "\n",
    "Df.describe().show()\n",
    "\n",
    "Df.show()\n"
   ]
  },
  {
   "attachments": {},
   "cell_type": "markdown",
   "metadata": {},
   "source": [
    "#### February Dataset"
   ]
  },
  {
   "cell_type": "code",
   "execution_count": 39,
   "metadata": {},
   "outputs": [],
   "source": [
    "df_february = spark.read.csv(\"Sales_February_2019.csv\", header=True, inferSchema=True)"
   ]
  },
  {
   "cell_type": "code",
   "execution_count": 40,
   "metadata": {},
   "outputs": [
    {
     "data": {
      "text/plain": [
       "['Order ID',\n",
       " 'Product',\n",
       " 'Quantity Ordered',\n",
       " 'Price Each',\n",
       " 'Order Date',\n",
       " 'Purchase Address']"
      ]
     },
     "execution_count": 40,
     "metadata": {},
     "output_type": "execute_result"
    }
   ],
   "source": [
    "df_february.columns"
   ]
  },
  {
   "cell_type": "code",
   "execution_count": 41,
   "metadata": {},
   "outputs": [
    {
     "name": "stdout",
     "output_type": "stream",
     "text": [
      "root\n",
      " |-- Order ID: integer (nullable = true)\n",
      " |-- Product: string (nullable = true)\n",
      " |-- Quantity Ordered: integer (nullable = true)\n",
      " |-- Price Each: double (nullable = true)\n",
      " |-- Order Date: string (nullable = true)\n",
      " |-- Purchase Address: string (nullable = true)\n",
      "\n"
     ]
    }
   ],
   "source": [
    "df_february.printSchema()"
   ]
  },
  {
   "cell_type": "code",
   "execution_count": 42,
   "metadata": {},
   "outputs": [
    {
     "name": "stdout",
     "output_type": "stream",
     "text": [
      "+-------+------------------+------------+------------------+------------------+--------------+--------------------+\n",
      "|summary|          Order ID|     Product|  Quantity Ordered|        Price Each|    Order Date|    Purchase Address|\n",
      "+-------+------------------+------------+------------------+------------------+--------------+--------------------+\n",
      "|  count|             11986|       12004|             11986|             11986|         12004|               12004|\n",
      "|   mean|156250.61338227932|        null|1.1230602369431002|182.74150675788204|          null|                null|\n",
      "| stddev|3322.0752634362825|        null|0.4311103873526451|325.54329574605885|          null|                null|\n",
      "|    min|            150502|20in Monitor|                 1|              2.99|02/01/19 01:51|1 Hill St, Boston...|\n",
      "|    max|            162008|      iPhone|                 7|            1700.0|    Order Date|    Purchase Address|\n",
      "+-------+------------------+------------+------------------+------------------+--------------+--------------------+\n",
      "\n"
     ]
    }
   ],
   "source": [
    "df_february.describe().show()"
   ]
  },
  {
   "cell_type": "code",
   "execution_count": 43,
   "metadata": {},
   "outputs": [
    {
     "name": "stdout",
     "output_type": "stream",
     "text": [
      "+--------+--------------------+----------------+----------+--------------+--------------------+\n",
      "|Order ID|             Product|Quantity Ordered|Price Each|    Order Date|    Purchase Address|\n",
      "+--------+--------------------+----------------+----------+--------------+--------------------+\n",
      "|  150502|              iPhone|               1|     700.0|02/18/19 01:35|866 Spruce St, Po...|\n",
      "|  150503|AA Batteries (4-p...|               1|      3.84|02/13/19 07:24|18 13th St, San F...|\n",
      "|  150504|27in 4K Gaming Mo...|               1|    389.99|02/18/19 09:46|52 6th St, New Yo...|\n",
      "|  150505|Lightning Chargin...|               1|     14.95|02/02/19 16:47|129 Cherry St, At...|\n",
      "|  150506|AA Batteries (4-p...|               2|      3.84|02/28/19 20:32|548 Lincoln St, S...|\n",
      "|  150507|Lightning Chargin...|               1|     14.95|02/24/19 18:50|387 12th St, Aust...|\n",
      "|  150508|AA Batteries (4-p...|               1|      3.84|02/21/19 19:26|622 Center St, Sa...|\n",
      "|  150509|Apple Airpods Hea...|               1|     150.0|02/26/19 19:53|921 6th St, Seatt...|\n",
      "|  150510|USB-C Charging Cable|               1|     11.95|02/17/19 21:48|451 2nd St, Los A...|\n",
      "|  150511|USB-C Charging Cable|               1|     11.95|02/22/19 07:36|689 River St, San...|\n",
      "|  150512|Bose SoundSport H...|               1|     99.99|02/17/19 18:29|198 Center St, Lo...|\n",
      "|  150513|Bose SoundSport H...|               1|     99.99|02/25/19 20:49|777 Spruce St, Lo...|\n",
      "|  150514|    27in FHD Monitor|               1|    149.99|02/03/19 00:21|723 Wilson St, Lo...|\n",
      "|  150515|Apple Airpods Hea...|               1|     150.0|02/18/19 14:53|101 13th St, New ...|\n",
      "|  150516|Lightning Chargin...|               1|     14.95|02/20/19 12:29|303 Sunset St, At...|\n",
      "|  150517|    Wired Headphones|               1|     11.99|02/08/19 12:57|471 13th St, San ...|\n",
      "|  150518|  Macbook Pro Laptop|               1|    1700.0|02/26/19 12:38|847 10th St, San ...|\n",
      "|  150518|              iPhone|               1|     700.0|02/26/19 12:38|847 10th St, San ...|\n",
      "|  150519|    Wired Headphones|               1|     11.99|02/23/19 13:25|111 Hill St, Dall...|\n",
      "|  150520|AA Batteries (4-p...|               2|      3.84|02/27/19 14:39|512 Church St, Da...|\n",
      "+--------+--------------------+----------------+----------+--------------+--------------------+\n",
      "only showing top 20 rows\n",
      "\n"
     ]
    }
   ],
   "source": [
    "df_february.show()"
   ]
  },
  {
   "attachments": {},
   "cell_type": "markdown",
   "metadata": {},
   "source": [
    "#### April Dataset"
   ]
  },
  {
   "cell_type": "code",
   "execution_count": 44,
   "metadata": {},
   "outputs": [],
   "source": [
    "df_april = spark.read.csv(\"Sales_April_2019.csv\", header =True, inferSchema=True)"
   ]
  },
  {
   "cell_type": "code",
   "execution_count": 46,
   "metadata": {},
   "outputs": [
    {
     "data": {
      "text/plain": [
       "['Order ID',\n",
       " 'Product',\n",
       " 'Quantity Ordered',\n",
       " 'Price Each',\n",
       " 'Order Date',\n",
       " 'Purchase Address']"
      ]
     },
     "execution_count": 46,
     "metadata": {},
     "output_type": "execute_result"
    }
   ],
   "source": [
    "df_april.columns"
   ]
  },
  {
   "cell_type": "code",
   "execution_count": 47,
   "metadata": {},
   "outputs": [
    {
     "name": "stdout",
     "output_type": "stream",
     "text": [
      "root\n",
      " |-- Order ID: integer (nullable = true)\n",
      " |-- Product: string (nullable = true)\n",
      " |-- Quantity Ordered: integer (nullable = true)\n",
      " |-- Price Each: double (nullable = true)\n",
      " |-- Order Date: string (nullable = true)\n",
      " |-- Purchase Address: string (nullable = true)\n",
      "\n"
     ]
    }
   ],
   "source": [
    "df_april.printSchema()"
   ]
  },
  {
   "cell_type": "code",
   "execution_count": 48,
   "metadata": {},
   "outputs": [
    {
     "name": "stdout",
     "output_type": "stream",
     "text": [
      "+-------+------------------+------------+-------------------+------------------+--------------+--------------------+\n",
      "|summary|          Order ID|     Product|   Quantity Ordered|        Price Each|    Order Date|    Purchase Address|\n",
      "+-------+------------------+------------+-------------------+------------------+--------------+--------------------+\n",
      "|  count|             18289|       18324|              18289|             18289|         18324|               18324|\n",
      "|   mean|185328.81672043304|        null| 1.1246104215648751|184.43102630000277|          null|                null|\n",
      "| stddev| 5061.520829296985|        null|0.43640973695741925| 330.9133771769665|          null|                null|\n",
      "|    min|            176558|20in Monitor|                  1|              2.99|4/1/2019 10:00|1 14th St, New Yo...|\n",
      "|    max|            194094|      iPhone|                  7|            1700.0|    Order Date|    Purchase Address|\n",
      "+-------+------------------+------------+-------------------+------------------+--------------+--------------------+\n",
      "\n"
     ]
    }
   ],
   "source": [
    "df_april.describe().show()"
   ]
  },
  {
   "cell_type": "code",
   "execution_count": 49,
   "metadata": {},
   "outputs": [
    {
     "name": "stdout",
     "output_type": "stream",
     "text": [
      "+--------+--------------------+----------------+----------+---------------+--------------------+\n",
      "|Order ID|             Product|Quantity Ordered|Price Each|     Order Date|    Purchase Address|\n",
      "+--------+--------------------+----------------+----------+---------------+--------------------+\n",
      "|  176558|USB-C Charging Cable|               2|     11.95| 4/19/2019 8:46|917 1st St, Dalla...|\n",
      "|  176559|Bose SoundSport H...|               1|     99.99| 4/7/2019 22:30|682 Chestnut St, ...|\n",
      "|  176560|        Google Phone|               1|     600.0|4/12/2019 14:38|669 Spruce St, Lo...|\n",
      "|  176560|    Wired Headphones|               1|     11.99|4/12/2019 14:38|669 Spruce St, Lo...|\n",
      "|  176561|    Wired Headphones|               1|     11.99| 4/30/2019 9:27|333 8th St, Los A...|\n",
      "|  176562|USB-C Charging Cable|               1|     11.95|4/29/2019 13:03|381 Wilson St, Sa...|\n",
      "|  176563|Bose SoundSport H...|               1|     99.99|  4/2/2019 7:46|668 Center St, Se...|\n",
      "|  176564|USB-C Charging Cable|               1|     11.95|4/12/2019 10:58|790 Ridge St, Atl...|\n",
      "|  176565|  Macbook Pro Laptop|               1|    1700.0|4/24/2019 10:38|915 Willow St, Sa...|\n",
      "|  176566|    Wired Headphones|               1|     11.99| 4/8/2019 14:05|83 7th St, Boston...|\n",
      "|  176567|        Google Phone|               1|     600.0|4/18/2019 17:18|444 7th St, Los A...|\n",
      "|  176568|Lightning Chargin...|               1|     14.95|4/15/2019 12:18|438 Elm St, Seatt...|\n",
      "|  176569|27in 4K Gaming Mo...|               1|    389.99|4/16/2019 19:23|657 Hill St, Dall...|\n",
      "|  176570|AA Batteries (4-p...|               1|      3.84|4/22/2019 15:09|186 12th St, Dall...|\n",
      "|  176571|Lightning Chargin...|               1|     14.95|4/19/2019 14:29|253 Johnson St, A...|\n",
      "|  176572|Apple Airpods Hea...|               1|     150.0| 4/4/2019 20:30|149 Dogwood St, N...|\n",
      "|  176573|USB-C Charging Cable|               1|     11.95|4/27/2019 18:41|214 Chestnut St, ...|\n",
      "|  176574|        Google Phone|               1|     600.0| 4/3/2019 19:42|20 Hill St, Los A...|\n",
      "|  176574|USB-C Charging Cable|               1|     11.95| 4/3/2019 19:42|20 Hill St, Los A...|\n",
      "|  176575|AAA Batteries (4-...|               1|      2.99| 4/27/2019 0:30|433 Hill St, New ...|\n",
      "+--------+--------------------+----------------+----------+---------------+--------------------+\n",
      "only showing top 20 rows\n",
      "\n"
     ]
    }
   ],
   "source": [
    "df_april.show()"
   ]
  },
  {
   "attachments": {},
   "cell_type": "markdown",
   "metadata": {},
   "source": [
    "2.2. If you use the above command on the sales dataset, you will notice that each Order has “Price Each” and “Quantity Ordered” columns, but the “Total price” is missing. See below:\n"
   ]
  },
  {
   "cell_type": "code",
   "execution_count": 51,
   "metadata": {},
   "outputs": [],
   "source": [
    "\n",
    "df_february = df_february.withColumn(\"Total price\", df_february[\"Price Each\"] * df_february[\"Quantity Ordered\"])\n",
    "\n",
    "february_total_price = df_february.agg({\"Total price\": \"sum\"}).collect()[0][0]\n",
    "\n",
    "\n",
    " \n",
    "df_april = df_april.withColumn(\"Total price\", df_april[\"Price Each\"] * df_april[\"Quantity Ordered\"])\n",
    "\n",
    " \n",
    "april_total_price = df_april.agg({\"Total price\": \"sum\"}).collect()[0][0]"
   ]
  },
  {
   "cell_type": "code",
   "execution_count": 52,
   "metadata": {},
   "outputs": [
    {
     "name": "stdout",
     "output_type": "stream",
     "text": [
      "+--------+--------------------+----------------+----------+---------------+--------------------+-----------+\n",
      "|Order ID|             Product|Quantity Ordered|Price Each|     Order Date|    Purchase Address|Total price|\n",
      "+--------+--------------------+----------------+----------+---------------+--------------------+-----------+\n",
      "|  176558|USB-C Charging Cable|               2|     11.95| 4/19/2019 8:46|917 1st St, Dalla...|       23.9|\n",
      "|  176559|Bose SoundSport H...|               1|     99.99| 4/7/2019 22:30|682 Chestnut St, ...|      99.99|\n",
      "|  176560|        Google Phone|               1|     600.0|4/12/2019 14:38|669 Spruce St, Lo...|      600.0|\n",
      "|  176560|    Wired Headphones|               1|     11.99|4/12/2019 14:38|669 Spruce St, Lo...|      11.99|\n",
      "|  176561|    Wired Headphones|               1|     11.99| 4/30/2019 9:27|333 8th St, Los A...|      11.99|\n",
      "|  176562|USB-C Charging Cable|               1|     11.95|4/29/2019 13:03|381 Wilson St, Sa...|      11.95|\n",
      "|  176563|Bose SoundSport H...|               1|     99.99|  4/2/2019 7:46|668 Center St, Se...|      99.99|\n",
      "|  176564|USB-C Charging Cable|               1|     11.95|4/12/2019 10:58|790 Ridge St, Atl...|      11.95|\n",
      "|  176565|  Macbook Pro Laptop|               1|    1700.0|4/24/2019 10:38|915 Willow St, Sa...|     1700.0|\n",
      "|  176566|    Wired Headphones|               1|     11.99| 4/8/2019 14:05|83 7th St, Boston...|      11.99|\n",
      "|  176567|        Google Phone|               1|     600.0|4/18/2019 17:18|444 7th St, Los A...|      600.0|\n",
      "|  176568|Lightning Chargin...|               1|     14.95|4/15/2019 12:18|438 Elm St, Seatt...|      14.95|\n",
      "|  176569|27in 4K Gaming Mo...|               1|    389.99|4/16/2019 19:23|657 Hill St, Dall...|     389.99|\n",
      "|  176570|AA Batteries (4-p...|               1|      3.84|4/22/2019 15:09|186 12th St, Dall...|       3.84|\n",
      "|  176571|Lightning Chargin...|               1|     14.95|4/19/2019 14:29|253 Johnson St, A...|      14.95|\n",
      "|  176572|Apple Airpods Hea...|               1|     150.0| 4/4/2019 20:30|149 Dogwood St, N...|      150.0|\n",
      "|  176573|USB-C Charging Cable|               1|     11.95|4/27/2019 18:41|214 Chestnut St, ...|      11.95|\n",
      "|  176574|        Google Phone|               1|     600.0| 4/3/2019 19:42|20 Hill St, Los A...|      600.0|\n",
      "|  176574|USB-C Charging Cable|               1|     11.95| 4/3/2019 19:42|20 Hill St, Los A...|      11.95|\n",
      "|  176575|AAA Batteries (4-...|               1|      2.99| 4/27/2019 0:30|433 Hill St, New ...|       2.99|\n",
      "+--------+--------------------+----------------+----------+---------------+--------------------+-----------+\n",
      "only showing top 20 rows\n",
      "\n"
     ]
    }
   ],
   "source": [
    "df_april.show()"
   ]
  },
  {
   "cell_type": "code",
   "execution_count": 53,
   "metadata": {},
   "outputs": [
    {
     "name": "stdout",
     "output_type": "stream",
     "text": [
      "+--------+--------------------+----------------+----------+--------------+--------------------+-----------+\n",
      "|Order ID|             Product|Quantity Ordered|Price Each|    Order Date|    Purchase Address|Total price|\n",
      "+--------+--------------------+----------------+----------+--------------+--------------------+-----------+\n",
      "|  150502|              iPhone|               1|     700.0|02/18/19 01:35|866 Spruce St, Po...|      700.0|\n",
      "|  150503|AA Batteries (4-p...|               1|      3.84|02/13/19 07:24|18 13th St, San F...|       3.84|\n",
      "|  150504|27in 4K Gaming Mo...|               1|    389.99|02/18/19 09:46|52 6th St, New Yo...|     389.99|\n",
      "|  150505|Lightning Chargin...|               1|     14.95|02/02/19 16:47|129 Cherry St, At...|      14.95|\n",
      "|  150506|AA Batteries (4-p...|               2|      3.84|02/28/19 20:32|548 Lincoln St, S...|       7.68|\n",
      "|  150507|Lightning Chargin...|               1|     14.95|02/24/19 18:50|387 12th St, Aust...|      14.95|\n",
      "|  150508|AA Batteries (4-p...|               1|      3.84|02/21/19 19:26|622 Center St, Sa...|       3.84|\n",
      "|  150509|Apple Airpods Hea...|               1|     150.0|02/26/19 19:53|921 6th St, Seatt...|      150.0|\n",
      "|  150510|USB-C Charging Cable|               1|     11.95|02/17/19 21:48|451 2nd St, Los A...|      11.95|\n",
      "|  150511|USB-C Charging Cable|               1|     11.95|02/22/19 07:36|689 River St, San...|      11.95|\n",
      "|  150512|Bose SoundSport H...|               1|     99.99|02/17/19 18:29|198 Center St, Lo...|      99.99|\n",
      "|  150513|Bose SoundSport H...|               1|     99.99|02/25/19 20:49|777 Spruce St, Lo...|      99.99|\n",
      "|  150514|    27in FHD Monitor|               1|    149.99|02/03/19 00:21|723 Wilson St, Lo...|     149.99|\n",
      "|  150515|Apple Airpods Hea...|               1|     150.0|02/18/19 14:53|101 13th St, New ...|      150.0|\n",
      "|  150516|Lightning Chargin...|               1|     14.95|02/20/19 12:29|303 Sunset St, At...|      14.95|\n",
      "|  150517|    Wired Headphones|               1|     11.99|02/08/19 12:57|471 13th St, San ...|      11.99|\n",
      "|  150518|  Macbook Pro Laptop|               1|    1700.0|02/26/19 12:38|847 10th St, San ...|     1700.0|\n",
      "|  150518|              iPhone|               1|     700.0|02/26/19 12:38|847 10th St, San ...|      700.0|\n",
      "|  150519|    Wired Headphones|               1|     11.99|02/23/19 13:25|111 Hill St, Dall...|      11.99|\n",
      "|  150520|AA Batteries (4-p...|               2|      3.84|02/27/19 14:39|512 Church St, Da...|       7.68|\n",
      "+--------+--------------------+----------------+----------+--------------+--------------------+-----------+\n",
      "only showing top 20 rows\n",
      "\n"
     ]
    }
   ],
   "source": [
    "df_february.show()"
   ]
  },
  {
   "attachments": {},
   "cell_type": "markdown",
   "metadata": {},
   "source": [
    "2.3: Load/Write sales data from SparkSQL Dataframe into CompanyABC_DB database. You can specify any n:ame to the table. Remember “Total price” must be recorded. "
   ]
  },
  {
   "cell_type": "code",
   "execution_count": 73,
   "metadata": {},
   "outputs": [],
   "source": [
    "cnx = mysql.connector.connect(user=user, password=password,\n",
    "                              host=host, database=database)"
   ]
  },
  {
   "cell_type": "code",
   "execution_count": 75,
   "metadata": {},
   "outputs": [],
   "source": [
    "\n",
    "\n",
    "df_february.write.jdbc(url=\"jdbc:mysql://localhost/CompanyABC_DB\", table=\"Sales_February_2019\", mode=\"overwrite\", properties={\"user\": user, \"password\": password})\n",
    "df_april.write.jdbc(url=\"jdbc:mysql://localhost/CompanyABC_DB\", table=\"Sales_April_2019\", mode=\"overwrite\", properties={\"user\": user, \"password\": password})"
   ]
  },
  {
   "cell_type": "code",
   "execution_count": null,
   "metadata": {},
   "outputs": [],
   "source": [
    "cnx.commit()\n",
    "# Close the cursor\n",
    "cursor.close()\n",
    "\n",
    "# Close the connection\n",
    "cnx.close()"
   ]
  }
 ],
 "metadata": {
  "kernelspec": {
   "display_name": "Python 3",
   "language": "python",
   "name": "python3"
  },
  "language_info": {
   "codemirror_mode": {
    "name": "ipython",
    "version": 3
   },
   "file_extension": ".py",
   "mimetype": "text/x-python",
   "name": "python",
   "nbconvert_exporter": "python",
   "pygments_lexer": "ipython3",
   "version": "3.10.4"
  },
  "orig_nbformat": 4,
  "vscode": {
   "interpreter": {
    "hash": "36310fdd050f0eaad062db0c57ef81d586b866e900fd68198301934ad67b22a5"
   }
  }
 },
 "nbformat": 4,
 "nbformat_minor": 2
}
